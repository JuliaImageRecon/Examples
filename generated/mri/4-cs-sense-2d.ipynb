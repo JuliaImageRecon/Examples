{
 "cells": [
  {
   "cell_type": "markdown",
   "source": [
    "# Compressed Sensing 2D pMRI\n",
    "\n",
    "This example illustrates how to perform\n",
    "2D compressed sensing image reconstruction\n",
    "from Cartesian sampled MRI data\n",
    "for parallel MRI (sensitivity encoding)\n",
    "with 1-norm regularization of orthogonal wavelet coefficients,\n",
    "using the Julia language."
   ],
   "metadata": {}
  },
  {
   "cell_type": "markdown",
   "source": [
    "This demo is somewhat similar to Fig. 3 in the survey paper\n",
    "\"[Optimization methods for MR image reconstruction](https://doi.org/10.1109/MSP.2019.2943645),\"\n",
    "in Jan 2020 IEEE Signal Processing Magazine,\n",
    "except\n",
    "* the sampling is 1D phase encoding instead of 2D,\n",
    "* there are multiple coils,\n",
    "* we use units (WIP - todo)\n",
    "* the simulation avoids inverse crimes."
   ],
   "metadata": {}
  },
  {
   "cell_type": "markdown",
   "source": [
    "Packages used in this demo (run `Pkg.add` as needed):"
   ],
   "metadata": {}
  },
  {
   "outputs": [],
   "cell_type": "code",
   "source": [
    "using ImagePhantoms: ellipse_parameters, SheppLoganBrainWeb, ellipse, phantom\n",
    "using ImagePhantoms: mri_smap_fit, mri_spectra\n",
    "#using ImageFiltering: imfilter, centered\n",
    "using ImageMorphology: dilate #, label_components # imfill\n",
    "using LazyGrids: ndgrid\n",
    "using ImageGeoms: embed, embed!\n",
    "using MIRT: Aodwt, Asense\n",
    "using MIRTjim: jim, prompt\n",
    "using MIRT: ir_mri_sensemap_sim\n",
    "using MIRT: pogm_restart\n",
    "using LinearAlgebra: norm, dot\n",
    "using LinearMapsAA: LinearMapAA\n",
    "using Plots; default(markerstrokecolor=:auto, label=\"\")\n",
    "using FFTW: fft!, bfft!, fftshift!\n",
    "using Random: seed!\n",
    "using InteractiveUtils: versioninfo"
   ],
   "metadata": {},
   "execution_count": null
  },
  {
   "cell_type": "markdown",
   "source": [
    "The following line is helpful when running this jl-file as a script;\n",
    "this way it will prompt user to hit a key after each image is displayed."
   ],
   "metadata": {}
  },
  {
   "outputs": [],
   "cell_type": "code",
   "source": [
    "isinteractive() && jim(:prompt, true);"
   ],
   "metadata": {},
   "execution_count": null
  },
  {
   "cell_type": "markdown",
   "source": [
    "## Create (synthetic) data"
   ],
   "metadata": {}
  },
  {
   "cell_type": "markdown",
   "source": [
    "Image geometry:"
   ],
   "metadata": {}
  },
  {
   "outputs": [],
   "cell_type": "code",
   "source": [
    "uu = 1\n",
    "fovs = (256, 256) .* uu\n",
    "nx, ny = (192, 256)\n",
    "dx, dy = fovs ./ (nx,ny)\n",
    "x = (-(nx÷2):(nx÷2-1)) * dx\n",
    "y = (-(ny÷2):(ny÷2-1)) * dy"
   ],
   "metadata": {},
   "execution_count": null
  },
  {
   "cell_type": "markdown",
   "source": [
    "Modified Shepp-Logan phantom with random complex phases per ellipse"
   ],
   "metadata": {}
  },
  {
   "outputs": [],
   "cell_type": "code",
   "source": [
    "object = ellipse_parameters(SheppLoganBrainWeb() ; disjoint=true, fovs)\n",
    "seed!(0)\n",
    "object = vcat( (object[1][1:end-1]..., 1), # random phases\n",
    "    [(ob[1:end-1]..., randn(ComplexF32)) for ob in object[2:end]]...)\n",
    "object = ellipse(object)\n",
    "oversample = 3\n",
    "Xtrue = phantom(x, y, object, oversample)\n",
    "cfun = z -> cat(dims = ndims(z)+1, real(z), imag(z))\n",
    "jim(:aspect_ratio, :equal)\n",
    "jim(x, y, cfun(Xtrue), \"True image\\n real | imag\"; ncol=2)"
   ],
   "metadata": {},
   "execution_count": null
  },
  {
   "cell_type": "markdown",
   "source": [
    "Mask (support for image reconstruction)"
   ],
   "metadata": {}
  },
  {
   "outputs": [],
   "cell_type": "code",
   "source": [
    "mask = abs.(Xtrue) .> 0\n",
    "mask = dilate(dilate(dilate(mask))) # repeated dilate with 3×3 square\n",
    "@assert mask .* Xtrue == Xtrue\n",
    "jim(x, y, mask + abs.(Xtrue), \"Mask + |Xtrue|\")"
   ],
   "metadata": {},
   "execution_count": null
  },
  {
   "cell_type": "markdown",
   "source": [
    "Make sensitivity maps, normalized so SSoS = 1:"
   ],
   "metadata": {}
  },
  {
   "outputs": [],
   "cell_type": "code",
   "source": [
    "ncoil = 4\n",
    "smap_raw = ir_mri_sensemap_sim(dims=(nx,ny); ncoil, orbit_start=[45])\n",
    "jif(args...; kwargs...) = jim(args...; prompt=false, kwargs...)\n",
    "p1 = jif(x, y, smap_raw, \"Sensitivity maps raw\");\n",
    "\n",
    "sum_last = (f, x) -> selectdim(sum(f, x; dims=ndims(x)), ndims(x), 1)\n",
    "ssos_fun = smap -> sqrt.(sum_last(abs2, smap)) # SSoS\n",
    "ssos_raw = ssos_fun(smap_raw) # SSoS raw\n",
    "p2 = jif(x, y, ssos_raw, \"SSoS raw, ncoil=$ncoil\");\n",
    "\n",
    "smap = @. smap_raw / ssos_raw * mask # normalize and mask\n",
    "ssos = ssos_fun(smap) # SSoS\n",
    "@assert all(≈(1), @view ssos[mask]) # verify ≈ 1\n",
    "smaps = [eachslice(smap; dims = ndims(smap))...] # stack\n",
    "p3 = jif(x, y, smaps, \"|Sensitivity maps normalized|\")\n",
    "p4 = jif(x, y, map(x -> angle.(x), smaps), \"∠Sensitivity maps\"; color=:hsv)\n",
    "jim(p1, p2, p3, p4)"
   ],
   "metadata": {},
   "execution_count": null
  },
  {
   "cell_type": "markdown",
   "source": [
    "Frequency sample vectors;\n",
    "crucial to match `mri_smap_basis` internals!"
   ],
   "metadata": {}
  },
  {
   "outputs": [],
   "cell_type": "code",
   "source": [
    "fx = (-(nx÷2):(nx÷2-1)) / (nx*dx)\n",
    "fy = (-(ny÷2):(ny÷2-1)) / (ny*dy)\n",
    "gx, gy = ndgrid(fx, fy);"
   ],
   "metadata": {},
   "execution_count": null
  },
  {
   "cell_type": "markdown",
   "source": [
    "Somewhat random 1D phase-encode sampling:"
   ],
   "metadata": {}
  },
  {
   "outputs": [],
   "cell_type": "code",
   "source": [
    "seed!(0); sampfrac = 0.3; samp = rand(ny÷2) .< sampfrac\n",
    "tmp = rand(ny÷2) .< 0.5; samp = [samp .* tmp; reverse(samp .* .!tmp)] # symmetry\n",
    "samp .|= (abs.(fy*dy) .< 1/8) # fully sampled center ±1/8 phase-encodes\n",
    "ny_count = count(samp)\n",
    "samp = trues(nx) * samp'\n",
    "samp_frac = round(100*count(samp) / (nx*ny), digits=2)\n",
    "jim(fx, fy, samp, title=\"k-space sampling ($ny_count / $ny = $samp_frac%)\")"
   ],
   "metadata": {},
   "execution_count": null
  },
  {
   "cell_type": "markdown",
   "source": [
    "To avoid an inverse crime, here we use the 2012 method of\n",
    "[Guerquin-Kern et al.](https://doi.org/10.1109/TMI.2011.2174158)\n",
    "and use the analytical k-space values of the phantom\n",
    "combined with an analytical model for the sensitivity maps."
   ],
   "metadata": {}
  },
  {
   "outputs": [],
   "cell_type": "code",
   "source": [
    "kmax = 7\n",
    "fit = mri_smap_fit(smaps, embed; mask, kmax, deltas=(dx,dy))\n",
    "jim(\n",
    " jif(x, y, cfun(smaps), \"Original maps\"; clim=(-1,1), nrow=4),\n",
    " jif(x, y, cfun(fit.smaps), \"Fit maps\"; clim=(-1,1), nrow=4),\n",
    " jif(x, y, cfun(100 * (fit.smaps - smaps)), \"error * 100\"; nrow=4),\n",
    " layout = (1,3),\n",
    ")"
   ],
   "metadata": {},
   "execution_count": null
  },
  {
   "cell_type": "markdown",
   "source": [
    "Analytical spectra computation for complex phantom using all smaps.\n",
    "(No inverse crime here.)"
   ],
   "metadata": {}
  },
  {
   "outputs": [],
   "cell_type": "code",
   "source": [
    "ytrue = mri_spectra(gx[samp], gy[samp], object, fit)\n",
    "ytrue = hcat(ytrue...)\n",
    "ytrue = ComplexF32.(ytrue) # save memory\n",
    "size(ytrue)"
   ],
   "metadata": {},
   "execution_count": null
  },
  {
   "cell_type": "markdown",
   "source": [
    "Noisy under-sampled k-space data:"
   ],
   "metadata": {}
  },
  {
   "outputs": [],
   "cell_type": "code",
   "source": [
    "sig = 1\n",
    "ydata = ytrue + oneunit(eltype(ytrue)) *\n",
    "    sig * √(2f0) * randn(ComplexF32, size(ytrue)) # complex noise with units!\n",
    "ysnr = 20 * log10(norm(ytrue) / norm(ydata - ytrue)) # data SNR in dB"
   ],
   "metadata": {},
   "execution_count": null
  },
  {
   "cell_type": "markdown",
   "source": [
    "Display zero-filled data:"
   ],
   "metadata": {}
  },
  {
   "outputs": [],
   "cell_type": "code",
   "source": [
    "logger = (x; min=-6, up=maximum(abs,x)) -> log10.(max.(abs.(x) / up, (10.)^min))\n",
    "jim(:abswarn, false) # suppress warnings about showing magnitude\n",
    "tmp = embed(ytrue[:,1],samp)\n",
    "jim(\n",
    " jif(fx, fy, logger(tmp),\n",
    "    title=\"k-space |data|\\n(zero-filled, coil 1)\",\n",
    "    xlabel=\"νx\", ylabel=\"νy\"),\n",
    " jif(fx, fy, angle.(tmp),\n",
    "    title=\"∠data, coil 1\"; color=:hsv)\n",
    ")"
   ],
   "metadata": {},
   "execution_count": null
  },
  {
   "cell_type": "markdown",
   "source": [
    "## Prepare to reconstruct\n",
    "Create a system matrix (encoding matrix) and an initial image.\n",
    "\n",
    "The system matrix is a `LinearMapAO` object,\n",
    "akin to a `fatrix` in\n",
    "[Matlab MIRT](https://github.com/JeffFessler/mirt/tree/main/systems/%40fatrix2).\n",
    "\n",
    "This system model (\"encoding matrix\")\n",
    "is for a 2D image `x` being mapped\n",
    "to an array of size `count(samp) × ncoil` k-space data.\n",
    "\n",
    "Here we construct it from FFT and coil map components.\n",
    "So this is like \"seeing the sausage being made.\"\n",
    "\n",
    "The `dx * dy` scale factor here is required\n",
    "because the true k-space data `ytrue`\n",
    "comes from an analytical Fourier transform,\n",
    "but the reconstruction uses a discrete Fourier transform.\n",
    "This factor is also needed from a unit-balance perspective."
   ],
   "metadata": {}
  },
  {
   "outputs": [],
   "cell_type": "code",
   "source": [
    "Ascale = Float32(dx * dy)\n",
    "A = Ascale * Asense(samp, smaps) # operator!\n",
    "(size(A), A._odim, A._idim)"
   ],
   "metadata": {},
   "execution_count": null
  },
  {
   "cell_type": "markdown",
   "source": [
    "Compare the analytical k-space data with the discrete model k-space data:"
   ],
   "metadata": {}
  },
  {
   "outputs": [],
   "cell_type": "code",
   "source": [
    "y0 = embed(ytrue, samp) # analytical\n",
    "y1 = embed(A * Xtrue, samp) # discrete\n",
    "jim(\n",
    " jif(logger(y0; up=maximum(abs,y0)), \"analytical\"; clim=(-6,0)),\n",
    " jif(logger(y1; up=maximum(abs,y0)), \"discrete\"; clim=(-6,0)),\n",
    " jif(logger(y1 - y0; up=maximum(abs,y0)), \"difference\"),\n",
    ")\n",
    "norm(y1) / norm(y0) # scale factor is ≈1"
   ],
   "metadata": {},
   "execution_count": null
  },
  {
   "cell_type": "markdown",
   "source": [
    "Initial image based on zero-filled adjoint reconstruction.\n",
    "Note the `(dx*dy)²` scale factor here!"
   ],
   "metadata": {}
  },
  {
   "outputs": [],
   "cell_type": "code",
   "source": [
    "nrmse = (x) -> round(norm(x - Xtrue) / norm(Xtrue) * 100, digits=1)\n",
    "X0 = 1.0f0/(nx*ny) * (A' * ydata) / (dx*dy)^2\n",
    "jim(x, y, X0, \"|X0|: initial image; NRMSE $(nrmse(X0))%\")"
   ],
   "metadata": {},
   "execution_count": null
  },
  {
   "cell_type": "markdown",
   "source": [
    "## Wavelet sparsity in synthesis form\n",
    "\n",
    "The image reconstruction optimization problem here is\n",
    "$$\n",
    "\\arg \\min_{x}\n",
    "\\frac{1}{2} \\| A x - y \\|_2^2 + \\beta \\; \\| W x \\|_1\n",
    "$$\n",
    "where\n",
    "- $y$ is the k-space data,\n",
    "- $A$ is the system model (simply Fourier encoding `F` here),\n",
    "- $W$ is an orthogonal discrete (Haar) wavelet transform,\n",
    "  again implemented as a `LinearMapAA` object.\n",
    "\n",
    "Because $W$ is unitary,\n",
    "we make the change of variables\n",
    "$z = W x$\n",
    "and solve for $z$\n",
    "and then let $x = W' z$\n",
    "at the end.\n",
    "In fact we use a weighted 1-norm\n",
    "where only the detail wavelet coefficients are regularized,\n",
    "not the approximation coefficients."
   ],
   "metadata": {}
  },
  {
   "cell_type": "markdown",
   "source": [
    "Orthogonal discrete wavelet transform operator (`LinearMapAO`):"
   ],
   "metadata": {}
  },
  {
   "outputs": [],
   "cell_type": "code",
   "source": [
    "W, scales, _ = Aodwt((nx,ny) ; T = eltype(A))\n",
    "isdetail = scales .> 0\n",
    "jim(\n",
    " jif(scales, \"wavelet scales\"),\n",
    " jif(real(W * Xtrue) .* isdetail, \"wavelet detail coefficients\\nreal for Xtrue\"),\n",
    ")"
   ],
   "metadata": {},
   "execution_count": null
  },
  {
   "cell_type": "markdown",
   "source": [
    "Inputs needed for proximal gradient methods.\n",
    "The trickiest part of this is determining\n",
    "a bound on the Lipschitz constant,\n",
    "i.e., the spectral norm of $(AW')'(AW')$,\n",
    "which is the same as the spectral norm of $A'A$\n",
    "because $W$ is unitary.\n",
    "Here we have SSOS=1 for the coil maps,\n",
    "so we just need to account for the number of voxels\n",
    "(because `fft` & `bfft` are not the unitary DFT)\n",
    "and for the scale factor.\n",
    "(If SSOS was nonuniform,\n",
    "we would use eqn. (6) of\n",
    "[Matt Muckley's BARISTA paper](https://doi.org/10.1109/TMI.2014.2363034).\n",
    "Submit an issue if you need an example using that.)"
   ],
   "metadata": {}
  },
  {
   "outputs": [],
   "cell_type": "code",
   "source": [
    "f_Lz = Ascale^2 * nx*ny # Lipschitz constant\n",
    "Az = A * W' # another operator!\n",
    "Fnullz = (z) -> 0 # cost function in `z` not needed\n",
    "f_gradz = (z) -> Az' * (Az * z - ydata)\n",
    "regz = 0.03 * nx * ny # oracle from Xtrue wavelet coefficients!\n",
    "costz = (z) -> 1/2 * norm(Az * z - ydata)^2 + regz * norm(z,1) # 1-norm regularizer\n",
    "soft = (z,c) -> sign(z) * max(abs(z) - c, 0) # soft thresholding\n",
    "g_prox = (z,c) -> soft.(z, isdetail .* (regz * c)) # proximal operator (shrink details only)\n",
    "z0 = W * X0\n",
    "jim(\n",
    " jif(z0, \"|wavelet coefficients|\"),\n",
    " jif(z0 .* isdetail, \"|detail coefficients|\"),\n",
    " ; plot_title = \"Initial\",\n",
    ")"
   ],
   "metadata": {},
   "execution_count": null
  },
  {
   "cell_type": "markdown",
   "source": [
    "## Iterate\n",
    "\n",
    "Run ISTA=PGM and FISTA=FPGM and POGM, the latter two with adaptive restart.\n",
    "See [Kim & Fessler, 2018](https://doi.org/10.1007/s10957-018-1287-4)\n",
    "for adaptive restart algorithm details."
   ],
   "metadata": {}
  },
  {
   "cell_type": "markdown",
   "source": [
    "Functions for tracking progress:"
   ],
   "metadata": {}
  },
  {
   "outputs": [],
   "cell_type": "code",
   "source": [
    "function fun_ista(iter, xk_z, yk, is_restart)\n",
    "    xh = W' * xk_z\n",
    "    return (costz(xk_z), nrmse(xh), is_restart) # , psnr(xh) # time()\n",
    "end\n",
    "\n",
    "function fun_fista(iter, xk, yk_z, is_restart)\n",
    "    xh = W' * yk_z\n",
    "    return (costz(yk_z), nrmse(xh), is_restart) # , psnr(xh) # time()\n",
    "end;"
   ],
   "metadata": {},
   "execution_count": null
  },
  {
   "cell_type": "markdown",
   "source": [
    "Run and compare three proximal gradient methods:"
   ],
   "metadata": {}
  },
  {
   "outputs": [],
   "cell_type": "code",
   "source": [
    "niter = 20\n",
    "z_ista, out_ista = pogm_restart(z0, Fnullz, f_gradz, f_Lz;\n",
    "    mom=:pgm, niter,\n",
    "    restart=:none, restart_cutoff=0., g_prox, fun=fun_ista)\n",
    "Xista = W'*z_ista\n",
    "@show nrmse(Xista)\n",
    "\n",
    "z_fista, out_fista = pogm_restart(z0, Fnullz, f_gradz, f_Lz;\n",
    "    mom=:fpgm, niter,\n",
    "    restart=:gr, restart_cutoff=0., g_prox, fun=fun_fista)\n",
    "Xfista = W'*z_fista\n",
    "@show nrmse(Xfista)\n",
    "\n",
    "z_pogm, out_pogm = pogm_restart(z0, Fnullz, f_gradz, f_Lz;\n",
    "    mom=:pogm, niter,\n",
    "    restart=:gr, restart_cutoff=0., g_prox, fun=fun_fista)\n",
    "Xpogm = W'*z_pogm\n",
    "@show nrmse(Xpogm)\n",
    "\n",
    "jim(\n",
    " jif(x, y, Xfista, \"FISTA/FPGM\"),\n",
    " jif(x, y, Xpogm, \"POGM with ODWT\"),\n",
    ")"
   ],
   "metadata": {},
   "execution_count": null
  },
  {
   "cell_type": "markdown",
   "source": [
    "## Convergence rate: POGM is fastest"
   ],
   "metadata": {}
  },
  {
   "cell_type": "markdown",
   "source": [
    "Plot cost function vs iteration:"
   ],
   "metadata": {}
  },
  {
   "outputs": [],
   "cell_type": "code",
   "source": [
    "cost_ista = [out_ista[k][1] for k in 1:niter+1]\n",
    "cost_fista = [out_fista[k][1] for k in 1:niter+1]\n",
    "cost_pogm = [out_pogm[k][1] for k in 1:niter+1]\n",
    "cost_min = min(minimum(cost_ista), minimum(cost_pogm))\n",
    "pc = plot(xlabel=\"iteration k\", ylabel=\"Relative cost\")\n",
    "scatter!(0:niter, cost_ista  .- cost_min, label=\"Cost ISTA\")\n",
    "scatter!(0:niter, cost_fista .- cost_min, markershape=:square, label=\"Cost FISTA\")\n",
    "scatter!(0:niter, cost_pogm  .- cost_min, markershape=:utriangle, label=\"Cost POGM\")"
   ],
   "metadata": {},
   "execution_count": null
  },
  {
   "outputs": [],
   "cell_type": "code",
   "source": [
    "isinteractive() && prompt();"
   ],
   "metadata": {},
   "execution_count": null
  },
  {
   "cell_type": "markdown",
   "source": [
    "Plot NRMSE vs iteration:"
   ],
   "metadata": {}
  },
  {
   "outputs": [],
   "cell_type": "code",
   "source": [
    "nrmse_ista = [out_ista[k][2] for k in 1:niter+1]\n",
    "nrmse_fista = [out_fista[k][2] for k in 1:niter+1]\n",
    "nrmse_pogm = [out_pogm[k][2] for k in 1:niter+1]\n",
    "pn = plot(xlabel=\"iteration k\", ylabel=\"NRMSE %\")#, ylims=(3,6.5))\n",
    "scatter!(0:niter, nrmse_ista, label=\"NRMSE ISTA\")\n",
    "scatter!(0:niter, nrmse_fista, markershape=:square, label=\"NRMSE FISTA\")\n",
    "scatter!(0:niter, nrmse_pogm, markershape=:utriangle, label=\"NRMSE POGM\")"
   ],
   "metadata": {},
   "execution_count": null
  },
  {
   "outputs": [],
   "cell_type": "code",
   "source": [
    "isinteractive() && prompt();"
   ],
   "metadata": {},
   "execution_count": null
  },
  {
   "cell_type": "markdown",
   "source": [
    "Show error images:"
   ],
   "metadata": {}
  },
  {
   "outputs": [],
   "cell_type": "code",
   "source": [
    "snrfun = (x) -> round(-20log10(nrmse(x)/100); digits=1)\n",
    "p1 = jif(x, y, Xtrue, \"|true|\"; clim=(0,2.5))\n",
    "p2 = jif(x, y, X0, \"|X0|: initial\"; clim=(0,2.5))\n",
    "p3 = jif(x, y, Xpogm, \"|POGM recon|\"; clim=(0,2.5))\n",
    "p5 = jif(x, y, X0 - Xtrue, \"|X0 error|\"; clim=(0,1), color=:cividis,\n",
    "   xlabel = \"NRMSE = $(nrmse(X0))%\\n SNR = $(snrfun(X0)) dB\")\n",
    "p6 = jif(x, y, Xpogm - Xtrue, \"|Xpogm error|\"; clim=(0,1), color=:cividis,\n",
    "   xlabel = \"NRMSE = $(nrmse(Xpogm))%\\n SNR = $(snrfun(Xpogm)) dB\")\n",
    "pe = jim(p2, p3, p5, p6)"
   ],
   "metadata": {},
   "execution_count": null
  },
  {
   "cell_type": "markdown",
   "source": [
    "## Discussion\n",
    "\n",
    "As reported in the optimization survey paper cited above,\n",
    "POGM converges faster than ISTA and FISTA.\n",
    "\n",
    "The final images serve as a reminder\n",
    "that NRMSE (and PSNR)\n",
    "and dubious image quality metrics.\n",
    "The NRMSE after 20 iterations may seem\n",
    "only a bit lower\n",
    "than the NRMSE of the initial image,\n",
    "but aliasing artifacts (ripples)\n",
    "were greatly reduced\n",
    "by the CS-SENSE reconstruction method."
   ],
   "metadata": {}
  },
  {
   "cell_type": "markdown",
   "source": [
    "---\n",
    "\n",
    "*This notebook was generated using [Literate.jl](https://github.com/fredrikekre/Literate.jl).*"
   ],
   "metadata": {}
  }
 ],
 "nbformat_minor": 3,
 "metadata": {
  "language_info": {
   "file_extension": ".jl",
   "mimetype": "application/julia",
   "name": "julia",
   "version": "1.12.0"
  },
  "kernelspec": {
   "name": "julia-1.12",
   "display_name": "Julia 1.12.0",
   "language": "julia"
  }
 },
 "nbformat": 4
}